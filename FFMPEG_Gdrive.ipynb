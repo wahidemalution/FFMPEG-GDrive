{
  "nbformat": 4,
  "nbformat_minor": 0,
  "metadata": {
    "colab": {
      "provenance": []
    },
    "kernelspec": {
      "name": "python3",
      "display_name": "Python 3"
    },
    "language_info": {
      "name": "python"
    }
  },
  "cells": [
    {
      "cell_type": "markdown",
      "source": [
        "<center><h1><b>FFMPEG</b></h1></center>"
      ],
      "metadata": {
        "id": "F3zUQDMBgEVf"
      }
    },
    {
      "cell_type": "code",
      "source": [
        "#@title Install FFMPEG \n",
        "\n",
        "!git clone https://github.com/XniceCraft/ffmpeg-colab.git\n",
        "!chmod +x ./ffmpeg-colab/install\n",
        "!./ffmpeg-colab/install\n",
        "!rm -fr /content/ffmpeg-colab\n",
        "!ffmpeg -version"
      ],
      "metadata": {
        "cellView": "form",
        "id": "5JLX24Q1kSIi"
      },
      "execution_count": null,
      "outputs": []
    },
    {
      "cell_type": "code",
      "source": [
        "#@title Mount Google Drive \n",
        "from google.colab import drive\n",
        "drive.mount('/content/drive')"
      ],
      "metadata": {
        "id": "3WN8_4pwOjG6",
        "cellView": "form"
      },
      "execution_count": null,
      "outputs": []
    },
    {
      "cell_type": "code",
      "source": [
        "#@title Convert MKV to MP4 Input from Form, and automatic Output to Movie Dir (Create Movie Dir First on MyDrive)\n",
        "\n",
        "import os, sys, re\n",
        "\n",
        "video_file_path = \"/content/drive/MyDrive/video.mkv\" #@param {type:\"string\"}\n",
        "output_name_video = \"Output Video Name\" #@param {type:\"string\"}\n",
        "\n",
        "delsplit = re.search(\"\\/(?:.(?!\\/))+$\", video_file_path)\n",
        "filename = re.sub(\"^[\\/]\", \"\", delsplit.group(0))\n",
        "filename_raw = re.sub(\".{4}$\", \"\", filename)\n",
        "file_extension = re.search(\".{3}$\", filename)\n",
        "file_extension_raw = file_extension.group(0)\n",
        "\n",
        "os.environ['inputFile'] = video_file_path\n",
        "os.environ['outputPath'] = \"/content/drive/MyDrive/Movie\"\n",
        "os.environ['fileName'] = output_name_video\n",
        "os.environ['fileExtension'] = file_extension_raw\n",
        "\n",
        "! ffmpeg -i \"$inputFile\" -codec copy -crf 27 -preset veryslow \"$outputPath\"/\"$fileName\"-[INFOKAN21].mp4"
      ],
      "metadata": {
        "id": "GRMsO1cK9HFl",
        "cellView": "form"
      },
      "execution_count": null,
      "outputs": []
    },
    {
      "cell_type": "code",
      "source": [
        "#@title Remove Subtitle MKV\n",
        "import os, sys, re\n",
        "\n",
        "video_file_path = \"/content/drive/MyDrive/video.mkv\" #@param {type:\"string\"}\n",
        "output_name_video = \"Top Gun Maverick 2022-BLURAY\" #@param {type:\"string\"}\n",
        "reso = \"720\" #@param [\"360\", \"480\", \"720\", \"1080\"]\n",
        "\n",
        "os.environ['inputFile'] = video_file_path\n",
        "os.environ['outputPath'] = \"/content/drive/MyDrive/MKV\"\n",
        "os.environ['fileName'] = output_name_video\n",
        "os.environ['reso'] = reso\n",
        "\n",
        "! ffmpeg -i \"$inputFile\" -sn -c copy \"$outputPath\"/\"$fileName\"-\"$reso\"-[INFOKAN21].mkv"
      ],
      "metadata": {
        "cellView": "form",
        "id": "uzxBKAMInRWY"
      },
      "execution_count": null,
      "outputs": []
    },
    {
      "cell_type": "markdown",
      "source": [
        "<center><h1><b>Upload File</b></h1></center>"
      ],
      "metadata": {
        "id": "7sGE0oRvjh-N"
      }
    },
    {
      "cell_type": "code",
      "source": [
        "#@title Upload to Bayfiles.com | Only mp4\n",
        "import os, sys, re\n",
        "\n",
        "video_file_path = \"/content/drive/MyDrive/video.mp4\" #@param {type:\"string\"}\n",
        "\n",
        "os.environ['inputFile'] = video_file_path\n",
        "\n",
        "! curl -F \"file=@$inputFile\" https://api.bayfiles.com/upload"
      ],
      "metadata": {
        "cellView": "form",
        "id": "GaqJugHFUGkT"
      },
      "execution_count": null,
      "outputs": []
    },
    {
      "cell_type": "code",
      "source": [
        "#@title Upload to Anonfiles.com | Only mp4\n",
        "import os, sys, re\n",
        "\n",
        "video_file_path = \"/content/drive/MyDrive/video.mp4\" #@param {type:\"string\"}\n",
        "\n",
        "os.environ['inputFile'] = video_file_path\n",
        "\n",
        "! curl -F \"file=@$inputFile\" https://api.anonfiles.com/upload"
      ],
      "metadata": {
        "cellView": "form",
        "id": "vwZcsuUqVDge"
      },
      "execution_count": null,
      "outputs": []
    },
    {
      "cell_type": "code",
      "source": [
        "#@title Upload to hellabyte.cloud\n",
        "import os, sys, re\n",
        "\n",
        "video_file_path = \"/content/drive/MyDrive/video.mp4\" #@param {type:\"string\"}\n",
        "API = \"API from your account\" #@param {type:\"string\"}\n",
        "\n",
        "os.environ['inputFile'] = video_file_path\n",
        "os.environ['api'] = API\n",
        "\n",
        "! curl -F \"file=@$inputFile\" up.hellabyte.cloud/\"$api\""
      ],
      "metadata": {
        "cellView": "form",
        "id": "mCjbMimNZl3h"
      },
      "execution_count": null,
      "outputs": []
    },
    {
      "cell_type": "markdown",
      "source": [
        "<center><h1><b>ADDITIONAL CELL</b></h1></center>"
      ],
      "metadata": {
        "id": "tdM5N7phgOrO"
      }
    },
    {
      "cell_type": "markdown",
      "source": [
        "# Colab Keep Alive Console Script\n",
        "\n",
        "<p><font size=2px ><font color=\"red\"> Tip - Set a javascript interval to click on the connect button every 60 seconds. Open developer-settings (in your web-browser) with Ctrl+Shift+I then click on console tab and type this on the console prompt. (for mac press Option+Command+I)</font></p><b>Copy script in hidden cell and paste at your browser console !!! DO NOT CLOSE YOUR BROWSER IN ORDER TO STILL RUNNING SCRIPT</b>\n"
      ],
      "metadata": {
        "id": "SgkYRA1EiujH"
      }
    },
    {
      "cell_type": "markdown",
      "source": [
        "<code>function ClickConnect(){\n",
        "console.log(\"Working\"); \n",
        "document.querySelector(\"colab-connect-button\").click() \n",
        "}setInterval(ClickConnect,6000)</code>"
      ],
      "metadata": {
        "id": "rYSyOdJEjE1M"
      }
    }
  ]
}