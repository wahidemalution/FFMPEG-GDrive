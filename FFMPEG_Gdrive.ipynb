{
  "nbformat": 4,
  "nbformat_minor": 0,
  "metadata": {
    "colab": {
      "provenance": [],
      "mount_file_id": "1nQbhBgnA4Urt5bRybrlHwK-ZaYoe-Y2N",
      "authorship_tag": "ABX9TyPhGFu279NNBk8vWkalXMMh"
    },
    "kernelspec": {
      "name": "python3",
      "display_name": "Python 3"
    },
    "language_info": {
      "name": "python"
    }
  },
  "cells": [
    {
      "cell_type": "code",
      "execution_count": null,
      "metadata": {
        "cellView": "form",
        "id": "W5IYT_FoObPL"
      },
      "outputs": [],
      "source": [
        "#@title Install FFMPEG \n",
        "import os, uuid, re, IPython\n",
        "import ipywidgets as widgets\n",
        "import time\n",
        "\n",
        "from glob import glob\n",
        "from google.colab import output, drive\n",
        "\n",
        "from IPython.display import clear_output\n",
        "import os, sys, urllib.request\n",
        "HOME = os.path.expanduser(\"~\")\n",
        "pathDoneCMD = f'{HOME}/doneCMD.sh'\n",
        "if not os.path.exists(f\"{HOME}/.ipython/ttmg.py\"):\n",
        "    hCode = \"https://raw.githubusercontent.com/yunooooo/gcct/master/res/ttmg.py\"\n",
        "    urllib.request.urlretrieve(hCode, f\"{HOME}/.ipython/ttmg.py\")\n",
        "\n",
        "from ttmg import (\n",
        "    loadingAn,\n",
        "    textAn,\n",
        ")\n",
        "\n",
        "loadingAn(name=\"lds\")\n",
        "textAn(\"Cloning Repositories...\", ty='twg')\n",
        "!git clone https://github.com/XniceCraft/ffmpeg-colab.git\n",
        "!chmod 755 ./ffmpeg-colab/install\n",
        "textAn(\"Installing FFmpeg...\", ty='twg')\n",
        "!./ffmpeg-colab/install\n",
        "clear_output()\n",
        "print('Installation finished!')\n",
        "!rm -fr /content/ffmpeg-colab\n",
        "!ffmpeg -version"
      ]
    },
    {
      "cell_type": "code",
      "source": [
        "#@title Mount Google Drive \n",
        "from google.colab import drive\n",
        "drive.mount('/content/drive')"
      ],
      "metadata": {
        "id": "3WN8_4pwOjG6",
        "cellView": "form"
      },
      "execution_count": null,
      "outputs": []
    },
    {
      "cell_type": "code",
      "source": [
        "#@title Convert MKV to MP4 Manual Input source and output\n",
        "! ffmpeg -i \"/content/drive/MyDrive/DriveFire/Disenchanted.2022.720p.WEB-DL.x264.950MB-[Mkvking.com].mkv\" -codec copy \"/content/drive/MyDrive/Movie/discan.mp4\""
      ],
      "metadata": {
        "id": "mjFJgSCVO0Eu",
        "cellView": "form"
      },
      "execution_count": null,
      "outputs": []
    },
    {
      "cell_type": "code",
      "source": [
        "#@title Convert MKV to MP4 Input from Form, and automatic Output to Movie Dir (Create Movie Dir First on MyDrive)\n",
        "\n",
        "import os, sys, re\n",
        "\n",
        "video_file_path = \"/content/drive/MyDrive/video.mkv\" #@param {type:\"string\"}\n",
        "output_name_video = \"Output Video Name\" #@param {type:\"string\"}\n",
        "\n",
        "delsplit = re.search(\"\\/(?:.(?!\\/))+$\", video_file_path)\n",
        "filename = re.sub(\"^[\\/]\", \"\", delsplit.group(0))\n",
        "filename_raw = re.sub(\".{4}$\", \"\", filename)\n",
        "file_extension = re.search(\".{3}$\", filename)\n",
        "file_extension_raw = file_extension.group(0)\n",
        "\n",
        "os.environ['inputFile'] = video_file_path\n",
        "os.environ['outputPath'] = \"/content/drive/MyDrive/Movie\"\n",
        "os.environ['fileName'] = output_name_video\n",
        "os.environ['fileExtension'] = file_extension_raw\n",
        "\n",
        "! ffmpeg -i \"$inputFile\" -codec copy -crf 27 -preset superfast \"$outputPath\"/\"$fileName\"-[INFOKAN21].mp4"
      ],
      "metadata": {
        "id": "GRMsO1cK9HFl"
      },
      "execution_count": null,
      "outputs": []
    },
    {
      "cell_type": "markdown",
      "source": [
        "# ✦ *Colab Still Alive Console Script:*\n",
        "<p><font size=2px ><font color=\"red\"> Tip - Set a javascript interval to click on the connect button every 60 seconds. Open developer-settings (in your web-browser) with Ctrl+Shift+I then click on console tab and type this on the console prompt. (for mac press Option+Command+I)</font></p><b>Copy script in hidden cell and paste at your browser console !!! DO NOT CLOSE YOUR BROWSER IN ORDER TO STILL RUNNING SCRIPT</b>"
      ],
      "metadata": {
        "id": "2mLLhfdXV0Qv"
      }
    },
    {
      "cell_type": "markdown",
      "source": [
        "<code>function ClickConnect(){\n",
        "console.log(\"Working\"); \n",
        "document.querySelector(\"colab-connect-button\").click() \n",
        "}setInterval(ClickConnect,6000)</code>"
      ],
      "metadata": {
        "id": "IuGJrqbiV4Zz"
      }
    },
    {
      "cell_type": "code",
      "source": [
        "#@title ← ឵឵ ឵Run this cell to crash your current Runtime if you're low on memory\n",
        "#@markdown <i>After crashing, you'll have access to all the preoccupied storage</i>\n",
        "some_str = ' ' * 5120000000000"
      ],
      "metadata": {
        "cellView": "form",
        "id": "MtgY4UX2V8Aa"
      },
      "execution_count": null,
      "outputs": []
    }
  ]
}