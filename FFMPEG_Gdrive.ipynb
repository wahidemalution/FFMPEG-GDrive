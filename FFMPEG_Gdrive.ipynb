{
  "nbformat": 4,
  "nbformat_minor": 0,
  "metadata": {
    "colab": {
      "provenance": [],
      "mount_file_id": "1nQbhBgnA4Urt5bRybrlHwK-ZaYoe-Y2N",
      "authorship_tag": "ABX9TyMTGgHxuEvvIYWfgwpTN9PI"
    },
    "kernelspec": {
      "name": "python3",
      "display_name": "Python 3"
    },
    "language_info": {
      "name": "python"
    }
  },
  "cells": [
    {
      "cell_type": "code",
      "execution_count": 8,
      "metadata": {
        "cellView": "form",
        "id": "W5IYT_FoObPL",
        "colab": {
          "base_uri": "https://localhost:8080/",
          "height": 201
        },
        "outputId": "93f0eb56-a09a-4adb-9edf-07a8732737f5"
      },
      "outputs": [
        {
          "output_type": "stream",
          "name": "stdout",
          "text": [
            "Installation finished!\n",
            "ffmpeg version 5.0 Copyright (c) 2000-2022 the FFmpeg developers\n",
            "built with gcc 7 (Ubuntu 7.5.0-3ubuntu1~18.04)\n",
            "configuration: --prefix=/content/build --pkg-config-flags=--static --extra-cflags=-I/content/build/include --extra-ldflags=-L/content/build/lib --extra-libs='-lpthread -lm -lgomp' --ld=g++ --bindir=/content/build/bin --disable-ffplay --disable-ffprobe --disable-doc --disable-htmlpages --disable-manpages --disable-podpages --disable-txtpages --enable-version3 --enable-gpl --enable-nonfree --enable-opencl --enable-opengl --disable-shared --enable-static --enable-libaom --enable-libass --enable-libbluray --enable-libdav1d --enable-libfdk-aac --enable-libfontconfig --enable-libfreetype --enable-libfribidi --enable-libkvazaar --enable-libmp3lame --enable-libopencore-amrnb --enable-libopencore-amrwb --enable-libopenh264 --enable-libopenjpeg --enable-libopus --enable-libshine --enable-libsoxr --enable-libsrt --enable-libvidstab --enable-libvmaf --enable-libvorbis --enable-libvpx --enable-libwebp --enable-libx264 --enable-libx265 --enable-libxvid --enable-libzimg --enable-zlib --enable-openssl --enable-cuvid --enable-ffnvcodec --enable-nvdec --enable-nvenc --enable-pthreads\n",
            "libavutil      57. 17.100 / 57. 17.100\n",
            "libavcodec     59. 18.100 / 59. 18.100\n",
            "libavformat    59. 16.100 / 59. 16.100\n",
            "libavdevice    59.  4.100 / 59.  4.100\n",
            "libavfilter     8. 24.100 /  8. 24.100\n",
            "libswscale      6.  4.100 /  6.  4.100\n",
            "libswresample   4.  3.100 /  4.  3.100\n",
            "libpostproc    56.  3.100 / 56.  3.100\n"
          ]
        }
      ],
      "source": [
        "#@title Install FFMPEG \n",
        "import os, uuid, re, IPython\n",
        "import ipywidgets as widgets\n",
        "import time\n",
        "\n",
        "from glob import glob\n",
        "from google.colab import output, drive\n",
        "\n",
        "from IPython.display import clear_output\n",
        "import os, sys, urllib.request\n",
        "HOME = os.path.expanduser(\"~\")\n",
        "pathDoneCMD = f'{HOME}/doneCMD.sh'\n",
        "if not os.path.exists(f\"{HOME}/.ipython/ttmg.py\"):\n",
        "    hCode = \"https://raw.githubusercontent.com/yunooooo/gcct/master/res/ttmg.py\"\n",
        "    urllib.request.urlretrieve(hCode, f\"{HOME}/.ipython/ttmg.py\")\n",
        "\n",
        "from ttmg import (\n",
        "    loadingAn,\n",
        "    textAn,\n",
        ")\n",
        "\n",
        "loadingAn(name=\"lds\")\n",
        "textAn(\"Cloning Repositories...\", ty='twg')\n",
        "!git clone https://github.com/XniceCraft/ffmpeg-colab.git\n",
        "!chmod 755 ./ffmpeg-colab/install\n",
        "textAn(\"Installing FFmpeg...\", ty='twg')\n",
        "!./ffmpeg-colab/install\n",
        "clear_output()\n",
        "print('Installation finished!')\n",
        "!rm -fr /content/ffmpeg-colab\n",
        "!ffmpeg -version"
      ]
    },
    {
      "cell_type": "code",
      "source": [
        "#@title Mount Google Drive \n",
        "from google.colab import drive\n",
        "drive.mount('/content/drive')"
      ],
      "metadata": {
        "colab": {
          "base_uri": "https://localhost:8080/"
        },
        "id": "3WN8_4pwOjG6",
        "outputId": "92989815-7d9f-449a-97a1-c197a9aebcfb",
        "cellView": "form"
      },
      "execution_count": 9,
      "outputs": [
        {
          "output_type": "stream",
          "name": "stdout",
          "text": [
            "Mounted at /content/drive\n"
          ]
        }
      ]
    },
    {
      "cell_type": "code",
      "source": [
        "#@title Convert MKV to MP4 Manual Input source and output\n",
        "! ffmpeg -i \"/content/drive/MyDrive/DriveFire/Disenchanted.2022.720p.WEB-DL.x264.950MB-[Mkvking.com].mkv\" -codec copy \"/content/drive/MyDrive/Movie/discan.mp4\""
      ],
      "metadata": {
        "id": "mjFJgSCVO0Eu"
      },
      "execution_count": null,
      "outputs": []
    },
    {
      "cell_type": "code",
      "source": [
        "#@title Convert MKV to MP4 Input from Form, and automatic Output to Movie Dir (Create Movie Dir First on MyDrive)\n",
        "\n",
        "import os, sys, re\n",
        "\n",
        "video_file_path = \"/content/drive/MyDrive/smile2.mkv\" #@param {type:\"string\"}\n",
        "output_name_video = \"similebji\" #@param {type:\"string\"}\n",
        "\n",
        "delsplit = re.search(\"\\/(?:.(?!\\/))+$\", video_file_path)\n",
        "filename = re.sub(\"^[\\/]\", \"\", delsplit.group(0))\n",
        "filename_raw = re.sub(\".{4}$\", \"\", filename)\n",
        "file_extension = re.search(\".{3}$\", filename)\n",
        "file_extension_raw = file_extension.group(0)\n",
        "\n",
        "os.environ['inputFile'] = video_file_path\n",
        "os.environ['outputPath'] = \"/content/drive/MyDrive/Movie\"\n",
        "os.environ['fileName'] = output_name_video\n",
        "os.environ['fileExtension'] = file_extension_raw\n",
        "\n",
        "! ffmpeg -i \"$inputFile\" -codec copy \"$outputPath\"/\"$fileName\".mp4"
      ],
      "metadata": {
        "cellView": "form",
        "id": "GRMsO1cK9HFl"
      },
      "execution_count": null,
      "outputs": []
    }
  ]
}