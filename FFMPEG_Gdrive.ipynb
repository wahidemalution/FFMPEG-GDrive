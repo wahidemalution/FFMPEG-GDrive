{
  "nbformat": 4,
  "nbformat_minor": 0,
  "metadata": {
    "colab": {
      "provenance": []
    },
    "kernelspec": {
      "name": "python3",
      "display_name": "Python 3"
    },
    "language_info": {
      "name": "python"
    }
  },
  "cells": [
    {
      "cell_type": "markdown",
      "source": [
        "<center><h1><b>Mount Google Drive</b></h1></center>"
      ],
      "metadata": {
        "id": "A5KlyQb0HB7o"
      }
    },
    {
      "cell_type": "code",
      "source": [
        "#@title Mount Google Drive \n",
        "from google.colab import drive\n",
        "drive.mount('/content/drive')"
      ],
      "metadata": {
        "id": "3WN8_4pwOjG6",
        "cellView": "form",
        "colab": {
          "base_uri": "https://localhost:8080/"
        },
        "outputId": "43395c89-f057-4c13-ae6c-b099f8a5f40b"
      },
      "execution_count": 1,
      "outputs": [
        {
          "output_type": "stream",
          "name": "stdout",
          "text": [
            "Mounted at /content/drive\n"
          ]
        }
      ]
    },
    {
      "cell_type": "markdown",
      "source": [
        "<center><h1><b>FFMPEG</b></h1></center>"
      ],
      "metadata": {
        "id": "F3zUQDMBgEVf"
      }
    },
    {
      "cell_type": "code",
      "source": [
        "#@title Install FFMPEG \n",
        "\n",
        "!git clone https://github.com/XniceCraft/ffmpeg-colab.git\n",
        "!chmod +x ./ffmpeg-colab/install\n",
        "!./ffmpeg-colab/install\n",
        "!rm -fr /content/ffmpeg-colab\n",
        "!ffmpeg -version"
      ],
      "metadata": {
        "cellView": "form",
        "id": "5JLX24Q1kSIi"
      },
      "execution_count": null,
      "outputs": []
    },
    {
      "cell_type": "code",
      "source": [
        "#@title Convert MKV to MP4 Input from Form, and automatic Output to Movie Dir (Create Movie Dir First on MyDrive)\n",
        "\n",
        "import os, sys, re\n",
        "\n",
        "video_file_path = \"/content/drive/MyDrive/video.mkv\" #@param {type:\"string\"}\n",
        "output_name_video = \"Output Video Name\" #@param {type:\"string\"}\n",
        "\n",
        "delsplit = re.search(\"\\/(?:.(?!\\/))+$\", video_file_path)\n",
        "filename = re.sub(\"^[\\/]\", \"\", delsplit.group(0))\n",
        "filename_raw = re.sub(\".{4}$\", \"\", filename)\n",
        "file_extension = re.search(\".{3}$\", filename)\n",
        "file_extension_raw = file_extension.group(0)\n",
        "\n",
        "os.environ['inputFile'] = video_file_path\n",
        "os.environ['outputPath'] = \"/content/drive/MyDrive/Movie\"\n",
        "os.environ['fileName'] = output_name_video\n",
        "os.environ['fileExtension'] = file_extension_raw\n",
        "\n",
        "! ffmpeg -i \"$inputFile\" -codec copy -crf 27 -preset veryslow \"$outputPath\"/\"$fileName\"-[INFOKAN21].mp4"
      ],
      "metadata": {
        "id": "GRMsO1cK9HFl",
        "cellView": "form"
      },
      "execution_count": null,
      "outputs": []
    },
    {
      "cell_type": "code",
      "source": [
        "#@title Remove Subtitle MKV\n",
        "import os, sys, re\n",
        "\n",
        "video_file_path = \"/content/drive/MyDrive/video.mkv\" #@param {type:\"string\"}\n",
        "output_name_video = \"Top Gun Maverick 2022-BLURAY\" #@param {type:\"string\"}\n",
        "reso = \"720\" #@param [\"360\", \"480\", \"720\", \"1080\"]\n",
        "\n",
        "os.environ['inputFile'] = video_file_path\n",
        "os.environ['outputPath'] = \"/content/drive/MyDrive/MKV\"\n",
        "os.environ['fileName'] = output_name_video\n",
        "os.environ['reso'] = reso\n",
        "\n",
        "! ffmpeg -i \"$inputFile\" -sn -c copy \"$outputPath\"/\"$fileName\"-\"$reso\"-[INFOKAN21].mkv"
      ],
      "metadata": {
        "cellView": "form",
        "id": "uzxBKAMInRWY"
      },
      "execution_count": null,
      "outputs": []
    },
    {
      "cell_type": "code",
      "source": [
        "#@title Merge Subtitle MKV (Create subbed Dir First on MyDrive)\n",
        "\n",
        "import os\n",
        "\n",
        "video_file_path = \"/content/drive/MyDrive/video.mkv\" #@param {type:\"string\"}\n",
        "subs_file_path = \"/content/drive/MyDrive/sub.srt\" #@param {type:\"string\"}\n",
        "output_name_video = \"Top Gun Maverick 2022-BLURAY\" #@param {type:\"string\"}\n",
        "reso = \"720\" #@param [\"360\", \"480\", \"720\", \"1080\"]\n",
        "\n",
        "os.environ['inputFile'] = video_file_path\n",
        "os.environ['inputSubsFile'] = subs_file_path\n",
        "os.environ['outputPath'] = \"/content/drive/MyDrive/subbed/\"\n",
        "os.environ['fileName'] = output_name_video\n",
        "os.environ['fileExtension'] = file_extension_raw\n",
        "\n",
        "!ffmpeg -hide_banner -i \"$inputFile\" -i \"$inputSubsFile\" -c:v copy -c:a copy \"$outputPath\"/\"$fileName\"-\"$reso\"-[INFOKAN21]-SubIndonesia.mkv"
      ],
      "metadata": {
        "cellView": "form",
        "id": "57rUh3EYPi9N"
      },
      "execution_count": null,
      "outputs": []
    },
    {
      "cell_type": "code",
      "source": [
        "#@title Merge Subtitle MP4 (Create subbed Dir First on MyDrive)\n",
        "\n",
        "import os\n",
        "\n",
        "video_file_path = \"/content/drive/MyDrive/video.mkv\" #@param {type:\"string\"}\n",
        "subs_file_path = \"/content/drive/MyDrive/sub.srt\" #@param {type:\"string\"}\n",
        "output_name_video = \"Top Gun Maverick 2022-BLURAY\" #@param {type:\"string\"}\n",
        "\n",
        "os.environ['inputFile'] = video_file_path\n",
        "os.environ['inputSubsFile'] = subs_file_path\n",
        "os.environ['outputPath'] = \"/content/drive/MyDrive/subbed/\"\n",
        "os.environ['fileName'] = output_name_video\n",
        "\n",
        "\n",
        "! ffmpeg -i \"$inputFile\" -i \"$inputSubsFile\" -c copy -c:s mov_text -metadata:s:s:0 title=\"Indonesia\" \"$outputPath\"/\"$fileName\"-[INFOKAN21]-SubIndonesia.mp4"
      ],
      "metadata": {
        "cellView": "form",
        "id": "qiBPOCGBnvUh"
      },
      "execution_count": null,
      "outputs": []
    },
    {
      "cell_type": "markdown",
      "source": [
        "<center><h1><b>Upload File</b></h1></center>"
      ],
      "metadata": {
        "id": "7sGE0oRvjh-N"
      }
    },
    {
      "cell_type": "code",
      "source": [
        "#@title Upload to Bayfiles.com | Only mp4\n",
        "import os, sys, re\n",
        "\n",
        "video_file_path = \"/content/drive/MyDrive/video.mp4\" #@param {type:\"string\"}\n",
        "\n",
        "os.environ['inputFile'] = video_file_path\n",
        "\n",
        "! curl -F \"file=@$inputFile\" https://api.bayfiles.com/upload"
      ],
      "metadata": {
        "cellView": "form",
        "id": "GaqJugHFUGkT"
      },
      "execution_count": null,
      "outputs": []
    },
    {
      "cell_type": "code",
      "source": [
        "#@title Upload to Anonfiles.com | Only mp4\n",
        "import os, sys, re\n",
        "\n",
        "video_file_path = \"/content/drive/MyDrive/video.mp4\" #@param {type:\"string\"}\n",
        "\n",
        "os.environ['inputFile'] = video_file_path\n",
        "\n",
        "! curl -F \"file=@$inputFile\" https://api.anonfiles.com/upload"
      ],
      "metadata": {
        "cellView": "form",
        "id": "vwZcsuUqVDge"
      },
      "execution_count": null,
      "outputs": []
    },
    {
      "cell_type": "code",
      "source": [
        "#@title Upload to hellabyte.cloud\n",
        "import os, sys, re\n",
        "\n",
        "video_file_path = \"/content/drive/MyDrive/video.mp4\" #@param {type:\"string\"}\n",
        "API = \"API from your account\" #@param {type:\"string\"}\n",
        "\n",
        "os.environ['inputFile'] = video_file_path\n",
        "os.environ['api'] = API\n",
        "\n",
        "! curl -F \"file=@$inputFile\" up.hellabyte.cloud/\"$api\""
      ],
      "metadata": {
        "cellView": "form",
        "id": "mCjbMimNZl3h"
      },
      "execution_count": null,
      "outputs": []
    },
    {
      "cell_type": "markdown",
      "source": [
        "<center><h1><b>Extract and Compress</b></h1></center>"
      ],
      "metadata": {
        "id": "75DnDpBCGfwH"
      }
    },
    {
      "cell_type": "markdown",
      "source": [
        "<p><b>Before Extract or Compress file, Mount Google Drive First on First Cell"
      ],
      "metadata": {
        "id": "CC48v1RkGx_B"
      }
    },
    {
      "cell_type": "code",
      "source": [
        "#@title Extract Zip\n",
        "\n",
        "import os\n",
        "\n",
        "compress_file = \"/content/drive/MyDrive/file.zip\" #@param {type:\"string\"}\n",
        "output_folder = \"Output folder where file will be extracted\" #@param {type:\"string\"}\n",
        "\n",
        "os.environ['inputFile'] = compress_file\n",
        "os.environ['outputPath'] = output_folder\n",
        "\n",
        "! unzip \"$inputFile\" -d \"$outputPath\""
      ],
      "metadata": {
        "cellView": "form",
        "id": "ewUEeTX1Hhqf"
      },
      "execution_count": null,
      "outputs": []
    },
    {
      "cell_type": "code",
      "source": [
        "#@title Extract RAR (Without Password)\n",
        "\n",
        "import os\n",
        "\n",
        "compress_file = \"/content/drive/MyDrive/file.rar\" #@param {type:\"string\"}\n",
        "output_folder = \"Output folder where file will be extracted\" #@param {type:\"string\"}\n",
        "\n",
        "os.environ['inputFile'] = compress_file\n",
        "os.environ['outputPath'] = output_folder\n",
        "\n",
        "!unrar x \"$inputFile\" \"$outputPath\""
      ],
      "metadata": {
        "cellView": "form",
        "id": "y3_lD9OnJbgG"
      },
      "execution_count": null,
      "outputs": []
    },
    {
      "cell_type": "code",
      "source": [
        "#@title ZIP file/folder\n",
        "\n",
        "import os\n",
        "\n",
        "file_folder_name = \"/content/drive/MyDrive/Movie/Ghost Writer 2 2022-WEBDL-[INFOKAN21].mp4\" #@param {type:\"string\"}\n",
        "output_file_name = \"Ghst.Wrtr2022-WEBDL-[INFOKAN21]\" #@param {type:\"string\"}\n",
        "\n",
        "os.environ['inputFile'] = file_folder_name\n",
        "os.environ['outputFile'] = output_file_name\n",
        "\n",
        "!zip /content/drive/MyDrive/\"$outputFile\".zip \"$inputFile\""
      ],
      "metadata": {
        "cellView": "form",
        "id": "3SCEJ5k2_kV4",
        "outputId": "c2134539-1fc0-414f-ab60-59b653da8932",
        "colab": {
          "base_uri": "https://localhost:8080/"
        }
      },
      "execution_count": 3,
      "outputs": [
        {
          "output_type": "stream",
          "name": "stdout",
          "text": [
            "  adding: content/drive/MyDrive/Movie/Ghost Writer 2 2022-WEBDL-[INFOKAN21].mp4 (deflated 0%)\n"
          ]
        }
      ]
    },
    {
      "cell_type": "markdown",
      "source": [
        "<center><h1><b>Google Drive To Mega</b></h1></center>"
      ],
      "metadata": {
        "id": "ZRlRSRiJ-ktP"
      }
    },
    {
      "cell_type": "code",
      "source": [
        "# @title Input your Mega Id and Password\n",
        "\n",
        "# https://github.com/surajbahadur591\n",
        "\n",
        "from functools import wraps\n",
        "import errno\n",
        "import os\n",
        "import signal\n",
        "import subprocess\n",
        "import shlex\n",
        "\n",
        "\n",
        "class TimeoutError(Exception):\n",
        "    pass\n",
        "\n",
        "\n",
        "def timeout(seconds=10, error_message=os.strerror(errno.ETIME)):\n",
        "    def decorator(func):\n",
        "        def _handle_timeout(signum, frame):\n",
        "            raise TimeoutError(error_message)\n",
        "\n",
        "        def wrapper(*args, **kwargs):\n",
        "            signal.signal(signal.SIGALRM, _handle_timeout)\n",
        "            signal.alarm(seconds)\n",
        "            try:\n",
        "                result = func(*args, **kwargs)\n",
        "            finally:\n",
        "                signal.alarm(0)\n",
        "            return result\n",
        "\n",
        "        return wraps(func)(wrapper)\n",
        "\n",
        "    return decorator\n",
        "\n",
        "\n",
        "if not os.path.exists(\"/root/.ipython/ocr.py\"):\n",
        "    from subprocess import run\n",
        "    from shlex import split\n",
        "\n",
        "    shellCmd = \"wget -qq https://raw.githubusercontent.com/biplobsd/OneClickRun/master/res/ocr.py \\\n",
        "                    -O /root/.ipython/ocr.py\"\n",
        "    run(split(shellCmd))\n",
        "from ocr import runSh\n",
        "\n",
        "@timeout(10)\n",
        "def runShT(args):\n",
        "    return runSh(args, output=True)\n",
        "\n",
        "\n",
        "# MEGAcmd installing\n",
        "if not os.path.exists(\"/usr/bin/mega-cmd\"):\n",
        "    print(\"Installing MEGA ...\")\n",
        "    runSh('sudo apt-get -y update')\n",
        "    runSh('sudo apt-get -y install libmms0 libc-ares2 libc6 libcrypto++6 libgcc1 libmediainfo0v5 libpcre3 libpcrecpp0v5 libssl1.1 libstdc++6 libzen0v5 zlib1g apt-transport-https')\n",
        "    runSh('sudo curl -sL -o /var/cache/apt/archives/MEGAcmd.deb https://mega.nz/linux/MEGAsync/Debian_9.0/amd64/megacmd-Debian_9.0_amd64.deb', output=True)\n",
        "    runSh('sudo dpkg -i /var/cache/apt/archives/MEGAcmd.deb', output=True)\n",
        "    print(\"MEGA is installed.\")\n",
        "else:\n",
        "    !pkill mega-cmd\n",
        "\n",
        "# INPUT YOUR MEGA ID\n",
        "\n",
        "USERNAME = \"Email Login Mega\"  # @param {type:\"string\"}\n",
        "PASSWORD = \"Password Mega\"  # @param {type:\"string\"}\n",
        "if not (USERNAME == \"\" or PASSWORD == \"\"):\n",
        "    try:\n",
        "        runShT(f\"mega-login {USERNAME} {PASSWORD}\")\n",
        "    except TimeoutError:\n",
        "        runSh('mega-whoami', output=True)\n",
        "else:\n",
        "    print(\"Please Input your Mega IDs.\")"
      ],
      "metadata": {
        "cellView": "form",
        "id": "PmUjN0vN-oH5"
      },
      "execution_count": null,
      "outputs": []
    },
    {
      "cell_type": "code",
      "source": [
        "import time\n",
        "import subprocess\n",
        "import contextlib\n",
        "from IPython.display import clear_output\n",
        "# @title <center><h2>TRANSFER NOW</h2></center><br>\n",
        "# TRANSFER NOW\n",
        "\n",
        "PATH_TO_FILE = \"/content/drive/MyDrive/Video.mp4\"  # @param {type:\"string\"}\n",
        "# Unix, Windows and old Macintosh end-of-line\n",
        "newlines = ['\\n', '\\r\\n', '\\r']\n",
        "\n",
        "\n",
        "def unbuffered(proc, stream='stdout'):\n",
        "    stream = getattr(proc, stream)\n",
        "    with contextlib.closing(stream):\n",
        "        while True:\n",
        "            out = []\n",
        "            last = stream.read(1)\n",
        "            # Don't loop forever\n",
        "            if last == '' and proc.poll() is not None:\n",
        "                break\n",
        "            while last not in newlines:\n",
        "                # Don't loop forever\n",
        "                if last == '' and proc.poll() is not None:\n",
        "                    break\n",
        "                out.append(last)\n",
        "                last = stream.read(1)\n",
        "            out = ''.join(out)\n",
        "            yield out\n",
        "\n",
        "\n",
        "def transfare():\n",
        "    cmd = ['mega-put', PATH_TO_FILE]\n",
        "    proc = subprocess.Popen(\n",
        "        cmd,\n",
        "        stdout=subprocess.PIPE,\n",
        "        stderr=subprocess.STDOUT,\n",
        "        # Make all end-of-lines '\\n'\n",
        "        universal_newlines=True,\n",
        "    )\n",
        "    for line in unbuffered(proc):\n",
        "        clear_output(wait=True)\n",
        "        print(line)\n",
        "\n",
        "try:\n",
        "    transfare()\n",
        "except FileNotFoundError:\n",
        "    print(\"Login your account!\")"
      ],
      "metadata": {
        "cellView": "form",
        "id": "TylF2YLQ-9gl"
      },
      "execution_count": null,
      "outputs": []
    },
    {
      "cell_type": "markdown",
      "source": [
        "<center><h1><b>ADDITIONAL CELL</b></h1></center>"
      ],
      "metadata": {
        "id": "tdM5N7phgOrO"
      }
    },
    {
      "cell_type": "markdown",
      "source": [
        "# Colab Keep Alive Console Script\n",
        "\n",
        "<p><font size=2px ><font color=\"red\"> Tip - Set a javascript interval to click on the connect button every 60 seconds. Open developer-settings (in your web-browser) with Ctrl+Shift+I then click on console tab and type this on the console prompt. (for mac press Option+Command+I)</font></p><b>Copy script in hidden cell and paste at your browser console !!! DO NOT CLOSE YOUR BROWSER IN ORDER TO STILL RUNNING SCRIPT</b>\n"
      ],
      "metadata": {
        "id": "SgkYRA1EiujH"
      }
    },
    {
      "cell_type": "markdown",
      "source": [
        "<code>function ClickConnect(){\n",
        "console.log(\"Working\"); \n",
        "document.querySelector(\"colab-connect-button\").click() \n",
        "}setInterval(ClickConnect,6000)</code>"
      ],
      "metadata": {
        "id": "rYSyOdJEjE1M"
      }
    }
  ]
}